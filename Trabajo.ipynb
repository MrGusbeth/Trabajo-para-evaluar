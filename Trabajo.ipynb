{
  "metadata": {
    "language_info": {
      "codemirror_mode": {
        "name": "python",
        "version": 3
      },
      "file_extension": ".py",
      "mimetype": "text/x-python",
      "name": "python",
      "nbconvert_exporter": "python",
      "pygments_lexer": "ipython3",
      "version": "3.8"
    },
    "kernelspec": {
      "name": "python",
      "display_name": "Pyolite",
      "language": "python"
    }
  },
  "nbformat_minor": 4,
  "nbformat": 4,
  "cells": [
    {
      "cell_type": "markdown",
      "source": "# My Jupyter Notebook on IBM Watson Studio",
      "metadata": {}
    },
    {
      "cell_type": "markdown",
      "source": "**Mariano Gusbeth**.\n<br>Data Scentist student",
      "metadata": {}
    },
    {
      "cell_type": "markdown",
      "source": "*i am interested in data science, because i think it is the future. Any person can apply it to so many things, that´s very interesting. In my case, making my job easier*",
      "metadata": {}
    },
    {
      "cell_type": "markdown",
      "source": "### Now we are going to identify the variable X",
      "metadata": {}
    },
    {
      "cell_type": "code",
      "source": "X=15\nprint (\"variable X:\",X)",
      "metadata": {
        "trusted": true
      },
      "execution_count": 14,
      "outputs": [
        {
          "name": "stdout",
          "text": "variable X: 15\n",
          "output_type": "stream"
        }
      ]
    },
    {
      "cell_type": "markdown",
      "source": "Lista:\n<br>\n- uno\n- dos\n- tres\n<br>[imagen](https://diputadosbsas.com.ar/wp-content/uploads/2022/12/argentina-campeon-del-mundo-qatar-2022.webp)",
      "metadata": {}
    },
    {
      "cell_type": "code",
      "source": "",
      "metadata": {},
      "execution_count": null,
      "outputs": []
    }
  ]
}